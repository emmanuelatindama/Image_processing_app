{
 "cells": [
  {
   "cell_type": "markdown",
   "metadata": {},
   "source": [
    "### This is a testing site for the operations used in my image processing app\n"
   ]
  },
  {
   "cell_type": "code",
   "execution_count": 32,
   "metadata": {},
   "outputs": [],
   "source": [
    "import os\n",
    "\n",
    "from PIL import Image\n",
    "import cv2\n",
    "import numpy as np\n",
    "import scipy\n",
    "import sklearn"
   ]
  },
  {
   "cell_type": "code",
   "execution_count": null,
   "metadata": {},
   "outputs": [],
   "source": [
    "img = Image.open('/home/emmanuel/Desktop/web-dev-project/Image_processing/dump/headshot_EAA.jpg')"
   ]
  },
  {
   "cell_type": "markdown",
   "metadata": {},
   "source": [
    "1. rotate\n",
    "2. \n"
   ]
  },
  {
   "cell_type": "code",
   "execution_count": null,
   "metadata": {},
   "outputs": [],
   "source": [
    "# Process single image\n",
    "def single_process():\n",
    "    name = input('how would you like to preprocess? ')\n",
    "    if name == 'rotate':\n",
    "        angle = int(input('enter the angle of rotation')) \n",
    "        img.rotate(angle, resample=Image.Resampling.BICUBIC)\n",
    "    elif name == ''"
   ]
  },
  {
   "cell_type": "markdown",
   "metadata": {},
   "source": [
    "1. Alpha composite --- no\n",
    "2. blend\n",
    "3. composite --- no"
   ]
  },
  {
   "cell_type": "code",
   "execution_count": null,
   "metadata": {},
   "outputs": [
    {
     "ename": "SyntaxError",
     "evalue": "cannot assign to conditional expression (573505091.py, line 12)",
     "output_type": "error",
     "traceback": [
      "\u001b[0;36m  Cell \u001b[0;32mIn[44], line 12\u001b[0;36m\u001b[0m\n\u001b[0;31m    w2, h2, _ = np.shape(np.array(img2)) if np.ndim(np.array(img2))==3  else w2, h2 = np.shape(np.array(img2))\u001b[0m\n\u001b[0m                ^\u001b[0m\n\u001b[0;31mSyntaxError\u001b[0m\u001b[0;31m:\u001b[0m cannot assign to conditional expression\n"
     ]
    }
   ],
   "source": [
    "\n",
    "# Process dual images\n",
    "def compound_process():\n",
    "    name = input('how would you like to compound process today? ')\n",
    "    img1 = Image.open('/home/emmanuel/Desktop/web-dev-project/Image_processing/dump/passport.jpg')\n",
    "    img2 = Image.open('/home/emmanuel/Desktop/web-dev-project/Image_processing/dump/hike.jpg')\n",
    "\n",
    "    if np.ndim(np.array(img1))==3:\n",
    "        w1, h1, _ = np.shape(np.array(img1))\n",
    "    else:\n",
    "        w1, h1 = np.shape(np.array(img1))\n",
    "    \n",
    "    if np.ndim(np.array(img2))==3:\n",
    "        w2, h2, _ = np.shape(np.array(img2))\n",
    "    else:\n",
    "        w2, h2 = np.shape(np.array(img2))\n",
    "\n",
    "    w, h= min(w1, w2), min(h1, h2)\n",
    "\n",
    "    img1 = img1.resize((w, h))\n",
    "    img2 = img2.resize((w, h))\n",
    "\n",
    "    \n",
    "    if name == 'blend':\n",
    "        alpha = float(input('enter a number between 0 and 1 for your alpha! '))\n",
    "        Image.blend(img1, img2, alpha).show()\n",
    "    \n",
    "    return\n",
    "compound_process()\n"
   ]
  },
  {
   "cell_type": "code",
   "execution_count": null,
   "metadata": {},
   "outputs": [
    {
     "data": {
      "text/plain": [
       "(1920, 1920, 3)"
      ]
     },
     "execution_count": 40,
     "metadata": {},
     "output_type": "execute_result"
    }
   ],
   "source": [
    "im = Image.open(, mode=)"
   ]
  },
  {
   "cell_type": "code",
   "execution_count": null,
   "metadata": {},
   "outputs": [],
   "source": []
  }
 ],
 "metadata": {
  "kernelspec": {
   "display_name": "web-dev",
   "language": "python",
   "name": "python3"
  },
  "language_info": {
   "codemirror_mode": {
    "name": "ipython",
    "version": 3
   },
   "file_extension": ".py",
   "mimetype": "text/x-python",
   "name": "python",
   "nbconvert_exporter": "python",
   "pygments_lexer": "ipython3",
   "version": "3.9.19"
  }
 },
 "nbformat": 4,
 "nbformat_minor": 2
}
